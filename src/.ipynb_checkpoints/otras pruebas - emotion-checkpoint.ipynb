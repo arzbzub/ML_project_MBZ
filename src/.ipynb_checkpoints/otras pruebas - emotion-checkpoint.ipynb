{
 "cells": [
  {
   "cell_type": "markdown",
   "id": "6762474c",
   "metadata": {},
   "source": [
    "# Proyecto ML - Política en Twitter"
   ]
  },
  {
   "cell_type": "markdown",
   "id": "c5160514",
   "metadata": {},
   "source": [
    "## Libraries"
   ]
  },
  {
   "cell_type": "code",
   "execution_count": 1,
   "id": "ddaf74bd",
   "metadata": {},
   "outputs": [
    {
     "name": "stderr",
     "output_type": "stream",
     "text": [
      "C:\\Users\\zubil\\anaconda3\\envs\\general\\lib\\site-packages\\transformers\\trainer_pt_utils.py:208: UserWarning: Failed to initialize NumPy: module compiled against API version 0x10 but this version of numpy is 0xf (Triggered internally at ..\\torch\\csrc\\utils\\tensor_numpy.cpp:77.)\n",
      "  device: Optional[torch.device] = torch.device(\"cuda\"),\n"
     ]
    }
   ],
   "source": [
    "#Libraries and other main functions\n",
    "from lightgbm import LGBMClassifier\n",
    "import matplotlib.pyplot as plt\n",
    "import numpy as np\n",
    "import pandas as pd\n",
    "from pysentimiento import create_analyzer\n",
    "%matplotlib inline\n",
    "import seaborn as sns\n",
    "sns.set(color_codes=True)\n",
    "from sklearn.compose import ColumnTransformer\n",
    "from sklearn.ensemble import RandomForestClassifier\n",
    "from sklearn.metrics import classification_report, confusion_matrix\n",
    "from sklearn.model_selection import train_test_split, GridSearchCV\n",
    "from sklearn.neighbors import KNeighborsClassifier\n",
    "from sklearn.pipeline import Pipeline, make_pipeline\n",
    "from sklearn.preprocessing import OrdinalEncoder, OneHotEncoder,StandardScaler\n",
    "from utils.functions import transformations, features, text_cleaning, lexicon, model\n",
    "from utils.datos import *\n",
    "import warnings\n",
    "warnings.filterwarnings('ignore')\n",
    "from xgboost import XGBClassifier"
   ]
  },
  {
   "cell_type": "markdown",
   "id": "c1fceb4e",
   "metadata": {},
   "source": [
    "## Loading data from EDA project"
   ]
  },
  {
   "cell_type": "markdown",
   "id": "85ca93c4",
   "metadata": {},
   "source": [
    "Data has been previously cleaned and explored during EDA project"
   ]
  },
  {
   "cell_type": "code",
   "execution_count": 3,
   "id": "6a5da82f",
   "metadata": {},
   "outputs": [],
   "source": [
    "tweets = pd.read_csv(path_data)"
   ]
  },
  {
   "cell_type": "markdown",
   "id": "78585f47",
   "metadata": {},
   "source": [
    "## Target variable"
   ]
  },
  {
   "cell_type": "markdown",
   "id": "a24fe837",
   "metadata": {},
   "source": [
    "New variable to contain the target value, which is defined as a category variable that identifies the degree of success of the tweet (0 for Low, 1 for Medium and 2 for High)"
   ]
  },
  {
   "cell_type": "code",
   "execution_count": 4,
   "id": "1f8a1969",
   "metadata": {},
   "outputs": [],
   "source": [
    "tweets['categoria_tr']=tweets['Total_reac'].apply(transformations.target_category)"
   ]
  },
  {
   "cell_type": "markdown",
   "id": "bc442f1d",
   "metadata": {},
   "source": [
    "## Data transformation"
   ]
  },
  {
   "cell_type": "code",
   "execution_count": 5,
   "id": "f3b49da4",
   "metadata": {},
   "outputs": [],
   "source": [
    "# function converts all column names to lowercase \n",
    "tweets = transformations.lower(tweets)\n",
    "\n",
    "# add column that checks for exclamation mark in tweets\n",
    "tweets['exclama'] = tweets.tweet.apply(features.exclamation)\n",
    "\n",
    "# add column that detects tweet language, and keep only spanish tweets\n",
    "tweets['lang'] = tweets.tweet.apply(features.lang_detect)\n",
    "tweets_es = tweets[tweets.lang == 'es']"
   ]
  },
  {
   "cell_type": "markdown",
   "id": "c2e90e10",
   "metadata": {},
   "source": [
    "### Polarity feature"
   ]
  },
  {
   "cell_type": "markdown",
   "id": "19d0de7f",
   "metadata": {},
   "source": [
    "**Tweet cleaning**"
   ]
  },
  {
   "cell_type": "markdown",
   "id": "ca410fc2",
   "metadata": {},
   "source": [
    "To get the polarity of the tweet we first need to clean it: we will remove hashtags, web mentions, urls, punction sings, stopwords and other symbols.\n",
    "Given the nature of the tweets it is not neccesary to correct grammar nor to remove emoticons."
   ]
  },
  {
   "cell_type": "code",
   "execution_count": 6,
   "id": "179bccf8",
   "metadata": {},
   "outputs": [],
   "source": [
    "#remove hashtags/otros\n",
    "tweets_es.tweet = tweets_es.tweet.apply(text_cleaning.hashtags)\n",
    "\n",
    "#remove web mention\n",
    "tweets_es.tweet = tweets_es.tweet.apply(text_cleaning.webs)\n",
    "\n",
    "#remove punctuation marks\n",
    "tweets_es.tweet = tweets_es.tweet.apply(text_cleaning.punctuation_marks)\n",
    "\n",
    "#remove html\n",
    "tweets_es.tweet = tweets_es.tweet.apply(text_cleaning.html)\n",
    "\n",
    "#remove stopwords\n",
    "#tweets_es.tweet = tweets_es.tweet.apply(text_cleaning.remove_stopwords)\n",
    "\n",
    "#remove others\n",
    "tweets_es.tweet = tweets_es.tweet.apply(text_cleaning.remove_other)"
   ]
  },
  {
   "cell_type": "code",
   "execution_count": 7,
   "id": "86647541",
   "metadata": {
    "scrolled": true
   },
   "outputs": [
    {
     "data": {
      "text/plain": [
       "0    hoy damos un paso más en la protección de los ...\n",
       "1    se cumple un año desde que almudena grandes no...\n",
       "2    nadie dijo que fuera a ser fácil  a por el sig...\n",
       "3    los jóvenes sois la generación de la esperanza...\n",
       "4    la democracia se defiende día a día  no nos se...\n",
       "Name: tweet, dtype: object"
      ]
     },
     "execution_count": 7,
     "metadata": {},
     "output_type": "execute_result"
    }
   ],
   "source": [
    "tweets_es.tweet.head()"
   ]
  },
  {
   "cell_type": "code",
   "execution_count": 8,
   "id": "edb37d4b",
   "metadata": {
    "scrolled": true
   },
   "outputs": [
    {
     "data": {
      "application/vnd.jupyter.widget-view+json": {
       "model_id": "65e2cfd28bcf478292090f74e5fa3961",
       "version_major": 2,
       "version_minor": 0
      },
      "text/plain": [
       "Downloading (…)lve/main/config.json:   0%|          | 0.00/925 [00:00<?, ?B/s]"
      ]
     },
     "metadata": {},
     "output_type": "display_data"
    },
    {
     "data": {
      "application/vnd.jupyter.widget-view+json": {
       "model_id": "93082b4984094ca8bb021bbfeca200ea",
       "version_major": 2,
       "version_minor": 0
      },
      "text/plain": [
       "Downloading (…)\"pytorch_model.bin\";:   0%|          | 0.00/435M [00:00<?, ?B/s]"
      ]
     },
     "metadata": {},
     "output_type": "display_data"
    },
    {
     "data": {
      "application/vnd.jupyter.widget-view+json": {
       "model_id": "326728e39fa44b28962193eb743153f8",
       "version_major": 2,
       "version_minor": 0
      },
      "text/plain": [
       "Downloading (…)okenizer_config.json:   0%|          | 0.00/384 [00:00<?, ?B/s]"
      ]
     },
     "metadata": {},
     "output_type": "display_data"
    },
    {
     "data": {
      "application/vnd.jupyter.widget-view+json": {
       "model_id": "f2b23e702f7447988b6c83c9324751a9",
       "version_major": 2,
       "version_minor": 0
      },
      "text/plain": [
       "Downloading (…)/main/tokenizer.json:   0%|          | 0.00/1.31M [00:00<?, ?B/s]"
      ]
     },
     "metadata": {},
     "output_type": "display_data"
    },
    {
     "data": {
      "application/vnd.jupyter.widget-view+json": {
       "model_id": "db4242170fb34f2697f0628a94a4881e",
       "version_major": 2,
       "version_minor": 0
      },
      "text/plain": [
       "Downloading (…)cial_tokens_map.json:   0%|          | 0.00/167 [00:00<?, ?B/s]"
      ]
     },
     "metadata": {},
     "output_type": "display_data"
    }
   ],
   "source": [
    " analyzer = create_analyzer(task=\"sentiment\", lang=\"es\")"
   ]
  },
  {
   "cell_type": "code",
   "execution_count": 30,
   "id": "1794b554",
   "metadata": {},
   "outputs": [],
   "source": [
    "def polarity(text):\n",
    "    result = analyzer.predict(text)\n",
    "    return str(result).split(',',1)[0].split('=',1)[1]"
   ]
  },
  {
   "cell_type": "code",
   "execution_count": null,
   "id": "e0899b52",
   "metadata": {},
   "outputs": [],
   "source": []
  },
  {
   "cell_type": "code",
   "execution_count": 31,
   "id": "bf8ae64e",
   "metadata": {},
   "outputs": [],
   "source": [
    "tweets_es[\"polarity\"] = tweets_es.tweet.apply(polarity)"
   ]
  },
  {
   "cell_type": "code",
   "execution_count": 29,
   "id": "fbec9729",
   "metadata": {},
   "outputs": [
    {
     "data": {
      "text/plain": [
       "'POS'"
      ]
     },
     "execution_count": 29,
     "metadata": {},
     "output_type": "execute_result"
    }
   ],
   "source": [
    "str(tweets_es[\"polarity\"][1]).split(',',1)[0].split('=',1)[1]"
   ]
  },
  {
   "cell_type": "code",
   "execution_count": 32,
   "id": "14aeb64a",
   "metadata": {},
   "outputs": [
    {
     "data": {
      "text/plain": [
       "POS    3527\n",
       "NEG    2146\n",
       "NEU    1512\n",
       "Name: polarity, dtype: int64"
      ]
     },
     "execution_count": 32,
     "metadata": {},
     "output_type": "execute_result"
    }
   ],
   "source": [
    "tweets_es[\"polarity\"].value_counts()"
   ]
  },
  {
   "cell_type": "code",
   "execution_count": null,
   "id": "db6f8a93",
   "metadata": {},
   "outputs": [],
   "source": []
  },
  {
   "cell_type": "code",
   "execution_count": 33,
   "id": "0be32620",
   "metadata": {},
   "outputs": [],
   "source": [
    "def emotion(text):\n",
    "    result = emotion_analyzer.predict(text)\n",
    "    return str(result).split(',',1)[0].split('=',1)[1]"
   ]
  },
  {
   "cell_type": "code",
   "execution_count": 34,
   "id": "ef483780",
   "metadata": {},
   "outputs": [
    {
     "data": {
      "application/vnd.jupyter.widget-view+json": {
       "model_id": "f6eb459acbd7478c830229453ef7735d",
       "version_major": 2,
       "version_minor": 0
      },
      "text/plain": [
       "Downloading (…)lve/main/config.json:   0%|          | 0.00/1.08k [00:00<?, ?B/s]"
      ]
     },
     "metadata": {},
     "output_type": "display_data"
    },
    {
     "name": "stderr",
     "output_type": "stream",
     "text": [
      "loading configuration file config.json from cache at C:\\Users\\zubil/.cache\\huggingface\\hub\\models--pysentimiento--robertuito-emotion-analysis\\snapshots\\bcd6835f4d1ab1a061bd7437c9d762623c8437ad\\config.json\n",
      "Model config RobertaConfig {\n",
      "  \"_name_or_path\": \"pysentimiento/robertuito-emotion-analysis\",\n",
      "  \"architectures\": [\n",
      "    \"RobertaForSequenceClassification\"\n",
      "  ],\n",
      "  \"attention_probs_dropout_prob\": 0.1,\n",
      "  \"bos_token_id\": 0,\n",
      "  \"classifier_dropout\": null,\n",
      "  \"eos_token_id\": 2,\n",
      "  \"gradient_checkpointing\": false,\n",
      "  \"hidden_act\": \"gelu\",\n",
      "  \"hidden_dropout_prob\": 0.1,\n",
      "  \"hidden_size\": 768,\n",
      "  \"id2label\": {\n",
      "    \"0\": \"others\",\n",
      "    \"1\": \"joy\",\n",
      "    \"2\": \"sadness\",\n",
      "    \"3\": \"anger\",\n",
      "    \"4\": \"surprise\",\n",
      "    \"5\": \"disgust\",\n",
      "    \"6\": \"fear\"\n",
      "  },\n",
      "  \"initializer_range\": 0.02,\n",
      "  \"intermediate_size\": 3072,\n",
      "  \"label2id\": {\n",
      "    \"anger\": 3,\n",
      "    \"disgust\": 5,\n",
      "    \"fear\": 6,\n",
      "    \"joy\": 1,\n",
      "    \"others\": 0,\n",
      "    \"sadness\": 2,\n",
      "    \"surprise\": 4\n",
      "  },\n",
      "  \"layer_norm_eps\": 1e-12,\n",
      "  \"max_position_embeddings\": 130,\n",
      "  \"model_type\": \"roberta\",\n",
      "  \"num_attention_heads\": 12,\n",
      "  \"num_hidden_layers\": 12,\n",
      "  \"pad_token_id\": 1,\n",
      "  \"position_embedding_type\": \"absolute\",\n",
      "  \"problem_type\": \"single_label_classification\",\n",
      "  \"torch_dtype\": \"float32\",\n",
      "  \"transformers_version\": \"4.26.1\",\n",
      "  \"type_vocab_size\": 1,\n",
      "  \"use_cache\": true,\n",
      "  \"vocab_size\": 30002\n",
      "}\n",
      "\n"
     ]
    },
    {
     "data": {
      "application/vnd.jupyter.widget-view+json": {
       "model_id": "527eed094e7744ceb74f9d25e0bbc4fc",
       "version_major": 2,
       "version_minor": 0
      },
      "text/plain": [
       "Downloading (…)\"pytorch_model.bin\";:   0%|          | 0.00/435M [00:00<?, ?B/s]"
      ]
     },
     "metadata": {},
     "output_type": "display_data"
    },
    {
     "name": "stderr",
     "output_type": "stream",
     "text": [
      "loading weights file pytorch_model.bin from cache at C:\\Users\\zubil/.cache\\huggingface\\hub\\models--pysentimiento--robertuito-emotion-analysis\\snapshots\\bcd6835f4d1ab1a061bd7437c9d762623c8437ad\\pytorch_model.bin\n",
      "All model checkpoint weights were used when initializing RobertaForSequenceClassification.\n",
      "\n",
      "All the weights of RobertaForSequenceClassification were initialized from the model checkpoint at pysentimiento/robertuito-emotion-analysis.\n",
      "If your task is similar to the task the model of the checkpoint was trained on, you can already use RobertaForSequenceClassification for predictions without further training.\n"
     ]
    },
    {
     "data": {
      "application/vnd.jupyter.widget-view+json": {
       "model_id": "ad552d278bc44f909403b00a10a928f7",
       "version_major": 2,
       "version_minor": 0
      },
      "text/plain": [
       "Downloading (…)okenizer_config.json:   0%|          | 0.00/384 [00:00<?, ?B/s]"
      ]
     },
     "metadata": {},
     "output_type": "display_data"
    },
    {
     "data": {
      "application/vnd.jupyter.widget-view+json": {
       "model_id": "d5ec7bbf2f7748e5ab65d447013cec56",
       "version_major": 2,
       "version_minor": 0
      },
      "text/plain": [
       "Downloading (…)/main/tokenizer.json:   0%|          | 0.00/1.31M [00:00<?, ?B/s]"
      ]
     },
     "metadata": {},
     "output_type": "display_data"
    },
    {
     "data": {
      "application/vnd.jupyter.widget-view+json": {
       "model_id": "1335ede1ab8c49b2a803058601deb5b9",
       "version_major": 2,
       "version_minor": 0
      },
      "text/plain": [
       "Downloading (…)cial_tokens_map.json:   0%|          | 0.00/167 [00:00<?, ?B/s]"
      ]
     },
     "metadata": {},
     "output_type": "display_data"
    },
    {
     "name": "stderr",
     "output_type": "stream",
     "text": [
      "loading file tokenizer.json from cache at C:\\Users\\zubil/.cache\\huggingface\\hub\\models--pysentimiento--robertuito-emotion-analysis\\snapshots\\bcd6835f4d1ab1a061bd7437c9d762623c8437ad\\tokenizer.json\n",
      "loading file added_tokens.json from cache at None\n",
      "loading file special_tokens_map.json from cache at C:\\Users\\zubil/.cache\\huggingface\\hub\\models--pysentimiento--robertuito-emotion-analysis\\snapshots\\bcd6835f4d1ab1a061bd7437c9d762623c8437ad\\special_tokens_map.json\n",
      "loading file tokenizer_config.json from cache at C:\\Users\\zubil/.cache\\huggingface\\hub\\models--pysentimiento--robertuito-emotion-analysis\\snapshots\\bcd6835f4d1ab1a061bd7437c9d762623c8437ad\\tokenizer_config.json\n",
      "PyTorch: setting up devices\n",
      "The default value for the training argument `--report_to` will change in v5 (from all installed integrations to none). In v5, you will need to use `--report_to all` to get the same behavior as now. You should start updating your code and make this info disappear :-).\n"
     ]
    },
    {
     "data": {
      "text/plain": [
       "others      3639\n",
       "joy         2418\n",
       "anger        788\n",
       "sadness      336\n",
       "surprise       3\n",
       "disgust        1\n",
       "Name: emotion, dtype: int64"
      ]
     },
     "execution_count": 34,
     "metadata": {},
     "output_type": "execute_result"
    }
   ],
   "source": [
    "emotion_analyzer = create_analyzer(task=\"emotion\", lang=\"es\")\n",
    "tweets_es[\"emotion\"] = tweets_es.tweet.apply(emotion)\n",
    "tweets_es[\"emotion\"].value_counts()"
   ]
  },
  {
   "cell_type": "markdown",
   "id": "8039273d",
   "metadata": {},
   "source": [
    "**Lexicon model to define polarity**"
   ]
  },
  {
   "cell_type": "code",
   "execution_count": 35,
   "id": "43d7ffbe",
   "metadata": {},
   "outputs": [],
   "source": [
    "# In order to define the polarity of each tweet first we lemmatize the tweet text, and then calculate the polatiry based on a score\n",
    "tweets_es[\"polarity2\"] = tweets_es.tweet.apply(lexicon.lemma_doc).apply(lexicon.score_lexicon_lemmatized, path = path_lexicon)"
   ]
  },
  {
   "cell_type": "code",
   "execution_count": 45,
   "id": "2791aa24",
   "metadata": {},
   "outputs": [
    {
     "data": {
      "text/html": [
       "<div>\n",
       "<style scoped>\n",
       "    .dataframe tbody tr th:only-of-type {\n",
       "        vertical-align: middle;\n",
       "    }\n",
       "\n",
       "    .dataframe tbody tr th {\n",
       "        vertical-align: top;\n",
       "    }\n",
       "\n",
       "    .dataframe thead th {\n",
       "        text-align: right;\n",
       "    }\n",
       "</style>\n",
       "<table border=\"1\" class=\"dataframe\">\n",
       "  <thead>\n",
       "    <tr style=\"text-align: right;\">\n",
       "      <th></th>\n",
       "      <th>tweet</th>\n",
       "      <th>polarity</th>\n",
       "      <th>polarity2</th>\n",
       "      <th>emotion</th>\n",
       "    </tr>\n",
       "  </thead>\n",
       "  <tbody>\n",
       "    <tr>\n",
       "      <th>0</th>\n",
       "      <td>hoy damos un paso más en la protección de los derechos humanos el gobierno da luz verde a la ley  y la explotación de seres humanos  protegemos la libertad la integridad la salud y la dignidad de las víctimas frente a las mafias y la esclavitud del siglo xxi</td>\n",
       "      <td>NEU</td>\n",
       "      <td>N</td>\n",
       "      <td>others</td>\n",
       "    </tr>\n",
       "    <tr>\n",
       "      <th>1</th>\n",
       "      <td>se cumple un año desde que almudena grandes nos dejó pero nos quedan sus novelas  almudena era una resistente nata como madrid y esta ciudad ha tenido la suerte de tener una cronista inmensa   siempre recodaremos su palabra su luz y su alegría</td>\n",
       "      <td>POS</td>\n",
       "      <td>P</td>\n",
       "      <td>joy</td>\n",
       "    </tr>\n",
       "    <tr>\n",
       "      <th>2</th>\n",
       "      <td>nadie dijo que fuera a ser fácil  a por el siguiente</td>\n",
       "      <td>NEU</td>\n",
       "      <td>P</td>\n",
       "      <td>others</td>\n",
       "    </tr>\n",
       "    <tr>\n",
       "      <th>3</th>\n",
       "      <td>los jóvenes sois la generación de la esperanza  que nadie os diga que vuestro destino es vivir peor que vuestros padres porque no es cierto hacer un mundo mejor es el objetivo del socialismo democrático</td>\n",
       "      <td>NEG</td>\n",
       "      <td>P</td>\n",
       "      <td>others</td>\n",
       "    </tr>\n",
       "    <tr>\n",
       "      <th>4</th>\n",
       "      <td>la democracia se defiende día a día  no nos sentimos mejores que nadie por ser socialdemócratas pero la socialdemocracia hace un mundo mejor</td>\n",
       "      <td>POS</td>\n",
       "      <td>P</td>\n",
       "      <td>others</td>\n",
       "    </tr>\n",
       "    <tr>\n",
       "      <th>5</th>\n",
       "      <td>somos el país que somos gracias a estas siglas   de nuestra mano han llegado todas las conquistas sociales a españa todas</td>\n",
       "      <td>POS</td>\n",
       "      <td>P</td>\n",
       "      <td>joy</td>\n",
       "    </tr>\n",
       "    <tr>\n",
       "      <th>6</th>\n",
       "      <td>acabamos de aprobar unos nuevos presupuestos sociales y nuevos impuestos a las grandes corporaciones justicia social y justicia fiscal  avanzamos porque protegemos a la gente  es el momento de</td>\n",
       "      <td>POS</td>\n",
       "      <td>P</td>\n",
       "      <td>joy</td>\n",
       "    </tr>\n",
       "    <tr>\n",
       "      <th>7</th>\n",
       "      <td>gracias  por estar presente en el   la solución ibérica representa el compromiso de lo público por poner la economía al servicio de la gente  🌹juntos por la inclusión la igualdad y la justicia fiscal</td>\n",
       "      <td>POS</td>\n",
       "      <td>P</td>\n",
       "      <td>joy</td>\n",
       "    </tr>\n",
       "    <tr>\n",
       "      <th>8</th>\n",
       "      <td>gracias por vuestra confianza compañeros y compañeras   hagamos de la internacional socialista la gran casa común del pensamiento progresista global   empieza hoy 🌹</td>\n",
       "      <td>POS</td>\n",
       "      <td>P</td>\n",
       "      <td>joy</td>\n",
       "    </tr>\n",
       "    <tr>\n",
       "      <th>9</th>\n",
       "      <td>es un placer recibir hoy a tantos compañeros y compañeras en este congreso de la internacional socialista   tiene una misión clara actuar para que el mundo siga avanzando hacia la justicia social y la igualdad y lo vamos a hacer   bienvenidos a madrid</td>\n",
       "      <td>POS</td>\n",
       "      <td>P</td>\n",
       "      <td>joy</td>\n",
       "    </tr>\n",
       "    <tr>\n",
       "      <th>10</th>\n",
       "      <td>no basta con decir “yo no soy machista” demos un paso al frente en esta lucha   si hay una causa socialista por definición es la del feminismo porque feminismo significa igualdad que es lo que hace latir el corazón de todos los socialistas  úmeros</td>\n",
       "      <td>POS</td>\n",
       "      <td>P</td>\n",
       "      <td>others</td>\n",
       "    </tr>\n",
       "    <tr>\n",
       "      <th>11</th>\n",
       "      <td>aspirar a un país libre de violencia machista es una obligación democrática  este  frente a quienes niegan la existencia de la violencia específica contra las mujeres el firme compromiso del gobierno de españa para erradicar la</td>\n",
       "      <td>NEG</td>\n",
       "      <td>N</td>\n",
       "      <td>others</td>\n",
       "    </tr>\n",
       "    <tr>\n",
       "      <th>12</th>\n",
       "      <td>hoy damos un paso más hacia la aprobación definitiva de los   serán las terceras cuentas públicas consecutivas que aprobamos con una amplia mayoría unos presupuestos con un gasto social histórico para avanzar hacia un país más igualitario y sostenible  seguimos</td>\n",
       "      <td>POS</td>\n",
       "      <td>P</td>\n",
       "      <td>joy</td>\n",
       "    </tr>\n",
       "    <tr>\n",
       "      <th>13</th>\n",
       "      <td>pablo y sara sois una muestra del extraordinario talento que hay en españa  hace  años _duque marcó el camino ahora sois vosotros el espejo en el que se mirarán muchos niños y niñas que sueñen con viajar al espacio</td>\n",
       "      <td>POS</td>\n",
       "      <td>P</td>\n",
       "      <td>joy</td>\n",
       "    </tr>\n",
       "    <tr>\n",
       "      <th>14</th>\n",
       "      <td>españa es un país atractivo para la inversión de las principales empresas tecnológicas del mundo  apostamos por la conectividad la inclusión la cohesión territorial y la inversión estratégica en microchips los  que aprobamos hoy en el congreso son ejemplo de ello</td>\n",
       "      <td>POS</td>\n",
       "      <td>P</td>\n",
       "      <td>others</td>\n",
       "    </tr>\n",
       "  </tbody>\n",
       "</table>\n",
       "</div>"
      ],
      "text/plain": [
       "                                                                                                                                                                                                                                                                      tweet  \\\n",
       "0        hoy damos un paso más en la protección de los derechos humanos el gobierno da luz verde a la ley  y la explotación de seres humanos  protegemos la libertad la integridad la salud y la dignidad de las víctimas frente a las mafias y la esclavitud del siglo xxi   \n",
       "1                       se cumple un año desde que almudena grandes nos dejó pero nos quedan sus novelas  almudena era una resistente nata como madrid y esta ciudad ha tenido la suerte de tener una cronista inmensa   siempre recodaremos su palabra su luz y su alegría   \n",
       "2                                                                                                                                                                                                                     nadie dijo que fuera a ser fácil  a por el siguiente    \n",
       "3                                                              los jóvenes sois la generación de la esperanza  que nadie os diga que vuestro destino es vivir peor que vuestros padres porque no es cierto hacer un mundo mejor es el objetivo del socialismo democrático     \n",
       "4                                                                                                                             la democracia se defiende día a día  no nos sentimos mejores que nadie por ser socialdemócratas pero la socialdemocracia hace un mundo mejor    \n",
       "5                                                                                                                                                 somos el país que somos gracias a estas siglas   de nuestra mano han llegado todas las conquistas sociales a españa todas   \n",
       "6                                                                         acabamos de aprobar unos nuevos presupuestos sociales y nuevos impuestos a las grandes corporaciones justicia social y justicia fiscal  avanzamos porque protegemos a la gente  es el momento de    \n",
       "7                                                                 gracias  por estar presente en el   la solución ibérica representa el compromiso de lo público por poner la economía al servicio de la gente  🌹juntos por la inclusión la igualdad y la justicia fiscal     \n",
       "8                                                                                                     gracias por vuestra confianza compañeros y compañeras   hagamos de la internacional socialista la gran casa común del pensamiento progresista global   empieza hoy 🌹    \n",
       "9               es un placer recibir hoy a tantos compañeros y compañeras en este congreso de la internacional socialista   tiene una misión clara actuar para que el mundo siga avanzando hacia la justicia social y la igualdad y lo vamos a hacer   bienvenidos a madrid   \n",
       "10                  no basta con decir “yo no soy machista” demos un paso al frente en esta lucha   si hay una causa socialista por definición es la del feminismo porque feminismo significa igualdad que es lo que hace latir el corazón de todos los socialistas  úmeros   \n",
       "11                                     aspirar a un país libre de violencia machista es una obligación democrática  este  frente a quienes niegan la existencia de la violencia específica contra las mujeres el firme compromiso del gobierno de españa para erradicar la    \n",
       "12    hoy damos un paso más hacia la aprobación definitiva de los   serán las terceras cuentas públicas consecutivas que aprobamos con una amplia mayoría unos presupuestos con un gasto social histórico para avanzar hacia un país más igualitario y sostenible  seguimos   \n",
       "13                                                 pablo y sara sois una muestra del extraordinario talento que hay en españa  hace  años _duque marcó el camino ahora sois vosotros el espejo en el que se mirarán muchos niños y niñas que sueñen con viajar al espacio     \n",
       "14  españa es un país atractivo para la inversión de las principales empresas tecnológicas del mundo  apostamos por la conectividad la inclusión la cohesión territorial y la inversión estratégica en microchips los  que aprobamos hoy en el congreso son ejemplo de ello   \n",
       "\n",
       "   polarity polarity2 emotion  \n",
       "0       NEU         N  others  \n",
       "1       POS         P     joy  \n",
       "2       NEU         P  others  \n",
       "3       NEG         P  others  \n",
       "4       POS         P  others  \n",
       "5       POS         P     joy  \n",
       "6       POS         P     joy  \n",
       "7       POS         P     joy  \n",
       "8       POS         P     joy  \n",
       "9       POS         P     joy  \n",
       "10      POS         P  others  \n",
       "11      NEG         N  others  \n",
       "12      POS         P     joy  \n",
       "13      POS         P     joy  \n",
       "14      POS         P  others  "
      ]
     },
     "execution_count": 45,
     "metadata": {},
     "output_type": "execute_result"
    }
   ],
   "source": [
    "pd.set_option('max_colwidth', None)\n",
    "tweets_es[['tweet', 'polarity', 'polarity2', 'emotion']].head(15)\n"
   ]
  },
  {
   "cell_type": "code",
   "execution_count": 37,
   "id": "1e21b67a",
   "metadata": {},
   "outputs": [
    {
     "data": {
      "text/html": [
       "<div>\n",
       "<style scoped>\n",
       "    .dataframe tbody tr th:only-of-type {\n",
       "        vertical-align: middle;\n",
       "    }\n",
       "\n",
       "    .dataframe tbody tr th {\n",
       "        vertical-align: top;\n",
       "    }\n",
       "\n",
       "    .dataframe thead th {\n",
       "        text-align: right;\n",
       "    }\n",
       "</style>\n",
       "<table border=\"1\" class=\"dataframe\">\n",
       "  <thead>\n",
       "    <tr style=\"text-align: right;\">\n",
       "      <th></th>\n",
       "      <th>tweet</th>\n",
       "      <th>polarity</th>\n",
       "      <th>polarity2</th>\n",
       "      <th>emotion</th>\n",
       "    </tr>\n",
       "  </thead>\n",
       "  <tbody>\n",
       "    <tr>\n",
       "      <th>0</th>\n",
       "      <td>hoy damos un paso más en la protección de los ...</td>\n",
       "      <td>NEU</td>\n",
       "      <td>N</td>\n",
       "      <td>others</td>\n",
       "    </tr>\n",
       "    <tr>\n",
       "      <th>1</th>\n",
       "      <td>se cumple un año desde que almudena grandes no...</td>\n",
       "      <td>POS</td>\n",
       "      <td>P</td>\n",
       "      <td>joy</td>\n",
       "    </tr>\n",
       "    <tr>\n",
       "      <th>2</th>\n",
       "      <td>nadie dijo que fuera a ser fácil  a por el sig...</td>\n",
       "      <td>NEU</td>\n",
       "      <td>P</td>\n",
       "      <td>others</td>\n",
       "    </tr>\n",
       "    <tr>\n",
       "      <th>3</th>\n",
       "      <td>los jóvenes sois la generación de la esperanza...</td>\n",
       "      <td>NEG</td>\n",
       "      <td>P</td>\n",
       "      <td>others</td>\n",
       "    </tr>\n",
       "    <tr>\n",
       "      <th>4</th>\n",
       "      <td>la democracia se defiende día a día  no nos se...</td>\n",
       "      <td>POS</td>\n",
       "      <td>P</td>\n",
       "      <td>others</td>\n",
       "    </tr>\n",
       "    <tr>\n",
       "      <th>...</th>\n",
       "      <td>...</td>\n",
       "      <td>...</td>\n",
       "      <td>...</td>\n",
       "      <td>...</td>\n",
       "    </tr>\n",
       "    <tr>\n",
       "      <th>98</th>\n",
       "      <td>años después de la victoria socialista del  se...</td>\n",
       "      <td>POS</td>\n",
       "      <td>P</td>\n",
       "      <td>joy</td>\n",
       "    </tr>\n",
       "    <tr>\n",
       "      <th>99</th>\n",
       "      <td>emotiva visita a las antiguas celdas de consti...</td>\n",
       "      <td>POS</td>\n",
       "      <td>N</td>\n",
       "      <td>others</td>\n",
       "    </tr>\n",
       "    <tr>\n",
       "      <th>100</th>\n",
       "      <td>celebramos el l foro empresarial entre españa ...</td>\n",
       "      <td>POS</td>\n",
       "      <td>P</td>\n",
       "      <td>others</td>\n",
       "    </tr>\n",
       "    <tr>\n",
       "      <th>101</th>\n",
       "      <td>hoy hemos dado un paso más para la aprobación ...</td>\n",
       "      <td>POS</td>\n",
       "      <td>P</td>\n",
       "      <td>joy</td>\n",
       "    </tr>\n",
       "    <tr>\n",
       "      <th>102</th>\n",
       "      <td>sudáfrica es un socio clave para españa en el ...</td>\n",
       "      <td>POS</td>\n",
       "      <td>P</td>\n",
       "      <td>joy</td>\n",
       "    </tr>\n",
       "  </tbody>\n",
       "</table>\n",
       "<p>100 rows × 4 columns</p>\n",
       "</div>"
      ],
      "text/plain": [
       "                                                 tweet polarity polarity2  \\\n",
       "0    hoy damos un paso más en la protección de los ...      NEU         N   \n",
       "1    se cumple un año desde que almudena grandes no...      POS         P   \n",
       "2    nadie dijo que fuera a ser fácil  a por el sig...      NEU         P   \n",
       "3    los jóvenes sois la generación de la esperanza...      NEG         P   \n",
       "4    la democracia se defiende día a día  no nos se...      POS         P   \n",
       "..                                                 ...      ...       ...   \n",
       "98   años después de la victoria socialista del  se...      POS         P   \n",
       "99   emotiva visita a las antiguas celdas de consti...      POS         N   \n",
       "100  celebramos el l foro empresarial entre españa ...      POS         P   \n",
       "101  hoy hemos dado un paso más para la aprobación ...      POS         P   \n",
       "102  sudáfrica es un socio clave para españa en el ...      POS         P   \n",
       "\n",
       "    emotion  \n",
       "0    others  \n",
       "1       joy  \n",
       "2    others  \n",
       "3    others  \n",
       "4    others  \n",
       "..      ...  \n",
       "98      joy  \n",
       "99   others  \n",
       "100  others  \n",
       "101     joy  \n",
       "102     joy  \n",
       "\n",
       "[100 rows x 4 columns]"
      ]
     },
     "execution_count": 37,
     "metadata": {},
     "output_type": "execute_result"
    }
   ],
   "source": [
    "tweets_es[['tweet', 'polarity', 'polarity2', 'emotion']].head(100)"
   ]
  },
  {
   "cell_type": "code",
   "execution_count": null,
   "id": "628e9363",
   "metadata": {},
   "outputs": [],
   "source": []
  },
  {
   "cell_type": "code",
   "execution_count": 7,
   "id": "b1862f50",
   "metadata": {},
   "outputs": [],
   "source": [
    "#Save processed dataset to use in classficication model\n",
    "tweets_es.to_csv(\"data/processed_files/tweets_final.csv\", index = False)"
   ]
  },
  {
   "cell_type": "markdown",
   "id": "e5d77c90",
   "metadata": {},
   "source": [
    "### Pre-processing pipelines"
   ]
  },
  {
   "cell_type": "markdown",
   "id": "e82dfb85",
   "metadata": {},
   "source": [
    "Pre-processing pipelines defined to scale numerical variables and labeling categorical ones"
   ]
  },
  {
   "cell_type": "code",
   "execution_count": 46,
   "id": "3ab3c1ff",
   "metadata": {},
   "outputs": [],
   "source": [
    "#Ordinal encoding for ordinal features\n",
    "cat_pipeline = Pipeline(\n",
    "    [(\"OrdinalEncoder\", OneHotEncoder()) #OHE para categoricas\n",
    "    ])\n",
    "\n",
    "#Scaling for ordinal features\n",
    "num_pipeline = Pipeline(\n",
    "    [(\"SScaler\", StandardScaler()) #Standarización para numericas que no van de 0 a 1\n",
    "    ])\n",
    "\n",
    "preprocessing = ColumnTransformer(\n",
    "    [(\"Impute_Numeric\", num_pipeline, [\"followers\",\"month\", 'week_day', 'hour', 'tweet_len']),\n",
    "     (\"Process_Categorical\", cat_pipeline, [\"user\",\"polarity\", \"emotion\"]),\n",
    "    ], remainder = \"passthrough\")"
   ]
  },
  {
   "cell_type": "markdown",
   "id": "42fb32d0",
   "metadata": {},
   "source": [
    "### Define features of model"
   ]
  },
  {
   "cell_type": "code",
   "execution_count": 47,
   "id": "32613eb3",
   "metadata": {},
   "outputs": [],
   "source": [
    "# read final dataframe that I will use for my classification model\n",
    "#df_model = pd.read_csv(path_final_data)\n",
    "df_model = tweets_es\n",
    "\n",
    "#Select features of the model\n",
    "df_features = df_model.drop(columns=['polarity2','tweet', 'created_at','retweets', 'likes', 'id', 'entities', 'engage_rate', 'name', 'lang', 'hashtag_text', 'year','total_reac','categoria_tr'])\n",
    "\n",
    "#Select Train & Test\n",
    "X_train, X_test, y_train, y_test = train_test_split(df_features, df_model.categoria_tr, test_size=0.2, random_state=42)"
   ]
  },
  {
   "cell_type": "markdown",
   "id": "bc1d01a2",
   "metadata": {},
   "source": [
    "## Classification models"
   ]
  },
  {
   "cell_type": "markdown",
   "id": "abfe6950",
   "metadata": {},
   "source": [
    "### Classification model selection"
   ]
  },
  {
   "cell_type": "markdown",
   "id": "4ef042eb",
   "metadata": {},
   "source": [
    "Three different models will be tested using GridSearchCV to optimize parameters based on accuracy metric.\n",
    "\n",
    "Three models are: LightGBM, XGBoost and RandomForest"
   ]
  },
  {
   "cell_type": "markdown",
   "id": "dc3baca9",
   "metadata": {},
   "source": [
    "#### LightGBM"
   ]
  },
  {
   "cell_type": "code",
   "execution_count": 48,
   "id": "e327470d",
   "metadata": {},
   "outputs": [
    {
     "name": "stdout",
     "output_type": "stream",
     "text": [
      "[LightGBM] [Warning] min_data_in_leaf is set=200, min_child_samples=20 will be ignored. Current value: min_data_in_leaf=200\n",
      "Best score is  Best accuracy for model is 0.6\n"
     ]
    }
   ],
   "source": [
    "classifier = LGBMClassifier()\n",
    "scoring = 'accuracy'\n",
    "parameters = {\n",
    "    'model__min_data_in_leaf': (100,200,300),\n",
    "    'model__max_depth': (2,4,6,8,10)\n",
    "}\n",
    "\n",
    "clas_model_lgbm = model.gridsearch_score(preprocessing, classifier, parameters, scoring, X_train, y_train)\n",
    "print('Best score is ',clas_model_lgbm[1])"
   ]
  },
  {
   "cell_type": "markdown",
   "id": "ce73867a",
   "metadata": {},
   "source": [
    "**XGBoost**"
   ]
  },
  {
   "cell_type": "code",
   "execution_count": null,
   "id": "4983ad68",
   "metadata": {},
   "outputs": [],
   "source": [
    "classifier = XGBClassifier()\n",
    "scoring = 'accuracy'\n",
    "parameters = {\n",
    "    'model__learning_rate': [0.05, 0.1, 0.2, 0.4],\n",
    "    'model__max_depth': (2,4,6,8,10),\n",
    "    \"model__n_estimators\": [50, 100, 150, 200, 300, 500],\n",
    "    'model__random_state': [42]\n",
    "}\n",
    "\n",
    "clas_model_xgbc = model.gridsearch_score(preprocessing, classifier, parameters, scoring, X_train, y_train)\n",
    "print('Best score is ',clas_model_xgbc[1])"
   ]
  },
  {
   "cell_type": "markdown",
   "id": "d93b5aa7",
   "metadata": {},
   "source": [
    "**Random Forest**"
   ]
  },
  {
   "cell_type": "code",
   "execution_count": null,
   "id": "6025e90b",
   "metadata": {},
   "outputs": [],
   "source": [
    "classifier = RandomForestClassifier()\n",
    "scoring = 'accuracy'\n",
    "parameters = {\n",
    "    'model__max_depth': (2,4,6,8,10),\n",
    "    'model__max_features': (1,2,3,4,5,6,8,10),\n",
    "    \"model__n_estimators\": [50, 100, 150],\n",
    "}\n",
    "\n",
    "clas_model_rfc = model.gridsearch_score(preprocessing, classifier, parameters, scoring, X_train, y_train)\n",
    "print('Best score is ',clas_model_rfc[1])"
   ]
  },
  {
   "cell_type": "markdown",
   "id": "9b20fce7",
   "metadata": {},
   "source": [
    "**KNN**"
   ]
  },
  {
   "cell_type": "code",
   "execution_count": null,
   "id": "a8d1458d",
   "metadata": {},
   "outputs": [],
   "source": [
    "classifier = KNeighborsClassifier()\n",
    "scoring = 'accuracy'\n",
    "parameters = {\n",
    "    'model__n_neighbors': (6,8,10,100,150)\n",
    "}\n",
    "\n",
    "clas_model_knn = model.gridsearch_score(preprocessing, classifier, parameters, scoring, X_train, y_train)\n",
    "print('Best score is ',clas_model_knn[1])"
   ]
  },
  {
   "cell_type": "markdown",
   "id": "c0518a91",
   "metadata": {},
   "source": [
    "### Final classification model selection"
   ]
  },
  {
   "cell_type": "markdown",
   "id": "4fba3143",
   "metadata": {},
   "source": [
    "The two best performing models (LightGBM and Random Forest) will be analized against Test data in order to select final model"
   ]
  },
  {
   "cell_type": "markdown",
   "id": "59dc7057",
   "metadata": {},
   "source": [
    "#### LightGBM"
   ]
  },
  {
   "cell_type": "code",
   "execution_count": null,
   "id": "7739061b",
   "metadata": {
    "scrolled": true
   },
   "outputs": [],
   "source": [
    "#Predict with test data with LightGBM and print confusion matrix\n",
    "y_pred_lgbm = clas_model_lgbm[0].predict(X_test)\n",
    "print(classification_report(y_test, y_pred_lgbm))"
   ]
  },
  {
   "cell_type": "code",
   "execution_count": 16,
   "id": "c2c29025",
   "metadata": {},
   "outputs": [
    {
     "data": {
      "image/png": "[encoded data removed]",
      "text/plain": [
       "<Figure size 1000x400 with 1 Axes>"
      ]
     },
     "metadata": {},
     "output_type": "display_data"
    }
   ],
   "source": [
    "'''columns= [\"Seguidores\",\"Mes\", 'Día', 'Hora', 'Longitud', 'Usuario','Polaridad', 'Media', 'Hashtag', 'User_men', 'Exclama !']\n",
    "plt.figure(figsize=(10,4))\n",
    "fig = sns.barplot(x=columns, y=clas_model_lgbm[0].named_steps[\"model\"].feature_importances_, width=0.8);\n",
    "'''"
   ]
  },
  {
   "cell_type": "code",
   "execution_count": 17,
   "id": "fff2b327",
   "metadata": {},
   "outputs": [
    {
     "data": {
      "text/plain": [
       "<AxesSubplot:>"
      ]
     },
     "execution_count": 17,
     "metadata": {},
     "output_type": "execute_result"
    },
    {
     "data": {
      "image/png": "[encoded data removed]",
      "text/plain": [
       "<Figure size 640x480 with 2 Axes>"
      ]
     },
     "metadata": {},
     "output_type": "display_data"
    }
   ],
   "source": [
    "c_matrix = confusion_matrix(y_test, y_pred_lgbm)\n",
    "\n",
    "c_matrix_df = pd.DataFrame(c_matrix, \n",
    "                          columns=['Pred_Low', 'Pred_Medium', 'Pred_High'],\n",
    "                          index=['True_Low', 'True_Medium', 'True_High'])\n",
    "sns.heatmap(c_matrix_df, \n",
    "           annot=True,\n",
    "           fmt='g',\n",
    "           cmap=\"Blues\")"
   ]
  },
  {
   "cell_type": "markdown",
   "id": "2437801a",
   "metadata": {},
   "source": [
    "#### RandomForest"
   ]
  },
  {
   "cell_type": "code",
   "execution_count": null,
   "id": "ad5a11a4",
   "metadata": {},
   "outputs": [],
   "source": [
    "#Predict with test data with LightGBM and print confusion matrix\n",
    "y_pred_rfc = clas_model_rfc[0].predict(X_test)\n",
    "print(classification_report(y_test, y_pred_rfc))"
   ]
  },
  {
   "cell_type": "code",
   "execution_count": 19,
   "id": "73c83cba",
   "metadata": {},
   "outputs": [
    {
     "data": {
      "image/png": "[encoded data removed]",
      "text/plain": [
       "<Figure size 1000x400 with 1 Axes>"
      ]
     },
     "metadata": {},
     "output_type": "display_data"
    }
   ],
   "source": [
    "'''columns= [\"Seguidores\",\"Mes\", 'Día', 'Hora', 'Longitud', 'Usuario','Polaridad', 'Media', 'Hashtag', 'User_men', 'Exclama !']\n",
    "plt.figure(figsize=(10,4))\n",
    "fig = sns.barplot(x=columns, y=clas_model_rfc[0].named_steps[\"model\"].feature_importances_, width=0.8);'''"
   ]
  },
  {
   "cell_type": "code",
   "execution_count": 20,
   "id": "30700110",
   "metadata": {},
   "outputs": [
    {
     "data": {
      "text/plain": [
       "<AxesSubplot:>"
      ]
     },
     "execution_count": 20,
     "metadata": {},
     "output_type": "execute_result"
    },
    {
     "data": {
      "image/png": "[encoded data removed]",
      "text/plain": [
       "<Figure size 640x480 with 2 Axes>"
      ]
     },
     "metadata": {},
     "output_type": "display_data"
    }
   ],
   "source": [
    "from sklearn.metrics import confusion_matrix\n",
    "c_matrix = confusion_matrix(y_test, y_pred_rfc)\n",
    "\n",
    "c_matrix_df = pd.DataFrame(c_matrix, \n",
    "                          columns=['Pred_Low', 'Pred_Medium', 'Pred_High'],\n",
    "                          index=['True_Low', 'True_Medium', 'True_High'])\n",
    "sns.heatmap(c_matrix_df, \n",
    "           annot=True,\n",
    "           fmt='g',\n",
    "           cmap=\"Blues\")"
   ]
  }
 ],
 "metadata": {
  "kernelspec": {
   "display_name": "Python 3 (ipykernel)",
   "language": "python",
   "name": "python3"
  },
  "language_info": {
   "codemirror_mode": {
    "name": "ipython",
    "version": 3
   },
   "file_extension": ".py",
   "mimetype": "text/x-python",
   "name": "python",
   "nbconvert_exporter": "python",
   "pygments_lexer": "ipython3",
   "version": "3.10.4"
  }
 },
 "nbformat": 4,
 "nbformat_minor": 5
}
